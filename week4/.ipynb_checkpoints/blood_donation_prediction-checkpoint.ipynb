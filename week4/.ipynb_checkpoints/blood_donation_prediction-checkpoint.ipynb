{
 "cells": [
  {
   "cell_type": "code",
   "execution_count": 72,
   "metadata": {
    "collapsed": false
   },
   "outputs": [
    {
     "name": "stdout",
     "output_type": "stream",
     "text": [
      "[2, 0, 1, 2, 1, 4, 2, 1, 2, 5]\n",
      "[50, 13, 16, 20, 24, 4, 7, 12, 9, 46]\n",
      "[12500, 3250, 4000, 5000, 6000, 1000, 1750, 3000, 2250, 11500]\n",
      "[98, 28, 35, 45, 77, 4, 14, 35, 22, 98]\n",
      "0    1\n",
      "1    1\n",
      "2    1\n",
      "3    1\n",
      "4    0\n",
      "5    0\n",
      "6    1\n",
      "7    0\n",
      "8    1\n",
      "9    1\n",
      "Name: \"whether he/she donated blood in March 2007\", dtype: int64\n",
      "   Recency (months)  Frequency (times)  Monetary (c.c. blood)  Time (months)\n",
      "0                 2                 50                  12500             98\n",
      "1                 0                 13                   3250             28\n",
      "2                 1                 16                   4000             35\n",
      "3                 2                 20                   5000             45\n",
      "4                 1                 24                   6000             77\n",
      "5                 4                  4                   1000              4\n",
      "6                 2                  7                   1750             14\n",
      "7                 1                 12                   3000             35\n",
      "8                 2                  9                   2250             22\n",
      "9                 5                 46                  11500             98\n"
     ]
    }
   ],
   "source": [
    "\n",
    "#f = open('/Users/ducvu/Documents/ds_Predict_Blood_Donations/transfusion.data.txt','r+')\n",
    "#f.next()\n",
    "#label = []\n",
    "#feats = []\n",
    "#for point in f:\n",
    "#    label.append(point.split(',')[-1])\n",
    "#    feats.append(point.split(',')[:-1])\n",
    "#print label\n",
    "#print feats\n",
    "\n",
    "import csv\n",
    "import pandas\n",
    "df = pandas.read_csv('/Users/ducvu/Documents/ds_Predict_Blood_Donations/transfusion.data.txt', quoting=csv.QUOTE_NONE)\n",
    "#Recency (months),Frequency (times),Monetary (c.c. blood),Time (months),\"whether he/she donated blood in March 2007\"\n",
    "#print df\n",
    "\n",
    "Recency = list(df['Recency (months)'])\n",
    "Frequency = list(df['Frequency (times)'])\n",
    "Monetary = list(df['Monetary (c.c. blood)'])\n",
    "Time = list(df['Time (months)'])\n",
    "label = df['\"whether he/she donated blood in March 2007\"']\n",
    "feats = df[['Recency (months)', 'Frequency (times)', 'Monetary (c.c. blood)', 'Time (months)']]\n",
    "#feats = list(Recency,Frequency,Monetary,Time)\n",
    "print Recency[:10]\n",
    "print Frequency[:10]\n",
    "print Monetary[:10]\n",
    "print Time[:10]\n",
    "print label[:10]\n",
    "print feats[:10]"
   ]
  },
  {
   "cell_type": "code",
   "execution_count": 70,
   "metadata": {
    "collapsed": false
   },
   "outputs": [
    {
     "name": "stdout",
     "output_type": "stream",
     "text": [
      "0.69314718056\n",
      "0.69314718056\n",
      "0.0100503358535\n",
      "4.60517018599\n",
      "4.60517018599\n",
      "0.0100503358535\n",
      "25.3284360229\n",
      "1.00000008275e-11\n",
      "25.3284359402\n"
     ]
    }
   ],
   "source": [
    "import numpy as np\n",
    "from math import log\n",
    "\n",
    "def computeLogLoss(p, y):\n",
    "    \"\"\"Calculates the value of log loss for a given probabilty and label.\n",
    "\n",
    "    Note:\n",
    "        log(0) is undefined, so when p is 0 we need to add a small value (epsilon) to it\n",
    "        and when p is 1 we need to subtract a small value (epsilon) from it.\n",
    "\n",
    "    Args:\n",
    "        p (float): A probabilty between 0 and 1.\n",
    "        y (int): A label.  Takes on the values 0 and 1.\n",
    "\n",
    "    Returns:\n",
    "        float: The log loss value.\n",
    "    \"\"\"\n",
    "    \n",
    "    epsilon = 10e-12\n",
    "    if p == 1:\n",
    "        p -= epsilon\n",
    "    elif p ==0:\n",
    "        p += epsilon\n",
    "    if y ==1:\n",
    "        return -log(p)\n",
    "    elif y == 0:\n",
    "        return -log(1-p)\n",
    "    \"\"\"   \n",
    "    ### another approach to compute logloss function \n",
    "    epsilon = 10e-12\n",
    "    pred = max(p,0 + epsilon)\n",
    "    pred = min(p,1 - epsilon)\n",
    "    return -(y*log(pred) + (1-y)*log(1-pred))\n",
    "    \"\"\"\n",
    "    \n",
    "print computeLogLoss(.5, 1)\n",
    "print computeLogLoss(.5, 0)\n",
    "print computeLogLoss(.99, 1)\n",
    "print computeLogLoss(.99, 0)\n",
    "print computeLogLoss(.01, 1)\n",
    "print computeLogLoss(.01, 0)\n",
    "print computeLogLoss(0, 1)\n",
    "print computeLogLoss(1, 1)\n",
    "print computeLogLoss(1, 0)"
   ]
  },
  {
   "cell_type": "code",
   "execution_count": null,
   "metadata": {
    "collapsed": true
   },
   "outputs": [],
   "source": [
    "from math import exp #  exp(-t) = e^-t\n",
    "\n",
    "def getP(x, w, intercept):\n",
    "    \"\"\"Calculate the probability for an observation given a set of weights and intercept.\n",
    "\n",
    "    Note:\n",
    "        We'll bound our raw prediction between 20 and -20 for numerical purposes.\n",
    "\n",
    "    Args:\n",
    "        x (SparseVector): A vector with values of 1.0 for features that exist in this\n",
    "            observation and 0.0 otherwise.\n",
    "        w (DenseVector): A vector of weights (betas) for the model.\n",
    "        intercept (float): The model's intercept.\n",
    "\n",
    "    Returns:\n",
    "        float: A probability between 0 and 1.\n",
    "    \"\"\"\n",
    "    \n",
    "    rawPrediction = w.dot(x) + intercept\n",
    "    \n",
    "    \n",
    "    # Bound the raw prediction value\n",
    "    rawPrediction = min(rawPrediction, 20)\n",
    "    rawPrediction = max(rawPrediction, -20)\n",
    "    return 1/(1+ exp(-rawPrediction))"
   ]
  },
  {
   "cell_type": "code",
   "execution_count": 76,
   "metadata": {
    "collapsed": false
   },
   "outputs": [
    {
     "name": "stdout",
     "output_type": "stream",
     "text": [
      "coefficients of the model are: [[ -9.34838525e+03  -4.28693913e+00  -1.07173478e+03  -1.91140326e+04]]\n",
      "intercept of the model is: [-772.51600185]\n"
     ]
    }
   ],
   "source": [
    "from sklearn.linear_model import SGDClassifier\n",
    "model = SGDClassifier(loss=\"log\", penalty=\"l2\")\n",
    "#model.fit(X, y)\n",
    "model.fit(feats[:500], label[:500])\n",
    "weight = model.coef_ \n",
    "intercept = model.intercept_\n",
    "\n",
    "print 'coefficients of the model are:',weight\n",
    "print 'intercept of the model is:',intercept"
   ]
  },
  {
   "cell_type": "code",
   "execution_count": null,
   "metadata": {
    "collapsed": true
   },
   "outputs": [],
   "source": []
  }
 ],
 "metadata": {
  "kernelspec": {
   "display_name": "Python 2",
   "language": "python",
   "name": "python2"
  },
  "language_info": {
   "codemirror_mode": {
    "name": "ipython",
    "version": 2
   },
   "file_extension": ".py",
   "mimetype": "text/x-python",
   "name": "python",
   "nbconvert_exporter": "python",
   "pygments_lexer": "ipython2",
   "version": "2.7.10"
  }
 },
 "nbformat": 4,
 "nbformat_minor": 0
}
